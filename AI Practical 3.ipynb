{
 "cells": [
  {
   "cell_type": "code",
   "execution_count": 7,
   "id": "1374c7d8-d839-4b28-83c4-fe7e7860cf78",
   "metadata": {},
   "outputs": [
    {
     "name": "stdout",
     "output_type": "stream",
     "text": [
      "The array after sorting in Ascending Order by selection sort is:\n",
      "[-202, -97, -9, -2, 0, 11, 45, 88, 747]\n"
     ]
    }
   ],
   "source": [
    "# Selection sort in Python\n",
    "# time complexity O(n*n)\n",
    "#sorting by finding min_index\n",
    "def selectionSort(array, size):\n",
    "    \n",
    "    for ind in range(size):\n",
    "        min_index = ind\n",
    "    \n",
    "        for j in range(ind + 1, size):\n",
    "            # select the minimum element in every iteration\n",
    "            if array[j] < array[min_index]:\n",
    "                min_index = j\n",
    "        # swapping the elements to sort the array\n",
    "        (array[ind], array[min_index]) = (array[min_index], array[ind])\n",
    "        \n",
    "arr = [-2, 45, 0, 11, -9, 88, -97, -202, 747]\n",
    "size = len(arr)\n",
    "selectionSort(arr, size)\n",
    "print('The array after sorting in Ascending Order by selection sort is:')\n",
    "print(arr)"
   ]
  },
  {
   "cell_type": "code",
   "execution_count": 4,
   "id": "b95793a8-21f0-4c28-8af3-06e336e55436",
   "metadata": {},
   "outputs": [
    {
     "name": "stdout",
     "output_type": "stream",
     "text": [
      "0-1:19\n",
      "0-2:5\n",
      "1-4:2\n",
      "2-3:1\n"
     ]
    }
   ],
   "source": [
    "INF = 9999999\n",
    "# number of vertices in graph\n",
    "N = 5\n",
    "#creating graph by adjacency matrix method\n",
    "G = [[0, 19, 5, 0, 0],[19, 0, 5, 9, 2],[5, 5, 0, 1, 6],[0, 9, 1, 0, 1],[0, 2, 6, 1, 0]]\n",
    "selected_node = [0, 0, 0, 0, 0]\n",
    "no_edge = 0\n",
    "selected_node[0] = True\n",
    "# printing for edge and weight print(\"Edge : Weight\\n\")\n",
    "while (no_edge < N - 1):\n",
    "    minimum = INF\n",
    "    a = 0\n",
    "    b = 0\n",
    "    for m in range(N):\n",
    "        if selected_node[m]:\n",
    "            for n in range(N):\n",
    "                if ((not selected_node[n]) and G[m][n]):\n",
    "                    # not in selected and there is an edge\n",
    "                    if minimum > G[m][n]:\n",
    "                        minimum = G[m][n]\n",
    "                        a = m\n",
    "                        b = n\n",
    "                        print(str(a) + \"-\" + str(b) + \":\" + str(G[a][b]))\n",
    "                        selected_node[b] = True\n",
    "                        no_edge += 1"
   ]
  },
  {
   "cell_type": "code",
   "execution_count": null,
   "id": "971f3a0b-6bc1-43d9-b4af-d9c2b02b9572",
   "metadata": {},
   "outputs": [],
   "source": []
  }
 ],
 "metadata": {
  "kernelspec": {
   "display_name": "Python 3 (ipykernel)",
   "language": "python",
   "name": "python3"
  },
  "language_info": {
   "codemirror_mode": {
    "name": "ipython",
    "version": 3
   },
   "file_extension": ".py",
   "mimetype": "text/x-python",
   "name": "python",
   "nbconvert_exporter": "python",
   "pygments_lexer": "ipython3",
   "version": "3.10.12"
  }
 },
 "nbformat": 4,
 "nbformat_minor": 5
}
